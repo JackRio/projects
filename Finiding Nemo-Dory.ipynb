{
 "cells": [
  {
   "cell_type": "code",
   "execution_count": null,
   "metadata": {},
   "outputs": [],
   "source": [
    "import cv2\n",
    "import os\n",
    "import numpy as np\n",
    "import matplotlib.pyplot as plt"
   ]
  },
  {
   "cell_type": "code",
   "execution_count": null,
   "metadata": {},
   "outputs": [],
   "source": [
    "def load_images_from_folder(folder):\n",
    "    images = []\n",
    "    for filename in os.listdir(folder):\n",
    "        img = cv2.imread(os.path.join(folder,filename))\n",
    "        if img is not None:\n",
    "            images.append(img)\n",
    "    return images"
   ]
  },
  {
   "cell_type": "code",
   "execution_count": null,
   "metadata": {},
   "outputs": [],
   "source": [
    "def plot_average_histogram(files):\n",
    "    final = np.zeros((3,256))\n",
    "    j = 0\n",
    "    print(len(files))\n",
    "    for image in files:\n",
    "        chans = cv2.split(image)\n",
    "        colors = (\"b\", \"g\", \"r\")\n",
    "        i = 0\n",
    "        features = np.zeros((3,256))\n",
    "        for (chan, color) in zip(chans, colors):\n",
    "            hist = cv2.calcHist([chan], [0], None, [256], [0, 256])\n",
    "            features[i] = np.array(hist.reshape(-1))\n",
    "            i += 1\n",
    "        final = (final + features) / 2.0\n",
    "    plt.plot(final[0], color = 'b')\n",
    "    plt.plot(final[1], color = 'g')\n",
    "    plt.plot(final[2], color = 'r')\n",
    "    plt.xlim([0, 256])\n",
    "    plt.show()\n",
    "    return final"
   ]
  },
  {
   "cell_type": "code",
   "execution_count": null,
   "metadata": {},
   "outputs": [],
   "source": [
    "print(\"Monet\")\n",
    "monet_path = os.path.abspath('./monet/monet_jpg/')\n",
    "monet_files = load_images_from_folder(monet_path)\n",
    "final = plot_average_histogram(monet_files)\n",
    "\n",
    "print(\"Ukiyoe\")\n",
    "path = os.path.abspath('./ukiyoe2photo/testA/')\n",
    "ukiyoe_files = load_images_from_folder(path)\n",
    "final = plot_average_histogram(ukiyoe_files)\n",
    "\n",
    "print(\"Vangogh\")\n",
    "vangogh_path = os.path.abspath('./vangogh2photo/trainA/')\n",
    "vangogh_files = load_images_from_folder(vangogh_path)\n",
    "final = plot_average_histogram(vangogh_files)\n",
    "\n",
    "print(\"cezanne\")\n",
    "cezanne_path = os.path.abspath('./cezanne2photo/trainA/')\n",
    "cezanne_files = load_images_from_folder(cezanne_path)\n",
    "final = plot_average_histogram(cezanne_files)"
   ]
  },
  {
   "cell_type": "code",
   "execution_count": null,
   "metadata": {},
   "outputs": [],
   "source": [
    "from fid_score.fid_score import FidScore\n",
    "import torch\n",
    "import os\n",
    "\n",
    "monet_path = os.path.abspath('D:/Projects/projects/monet/monet_jpg/')\n",
    "cezanne_path = os.path.abspath('D:/Projects/projects/cezanne2photo/trainA/')\n",
    "ukiyoe_path = os.path.abspath('D:/Projects/projects/ukiyoe2photo/trainA/')\n",
    "vangogh_path = os.path.abspath('D:/Projects/projects/vangogh2photo/trainA/')\n",
    "\n",
    "\n",
    "device = torch.device('cuda:0')\n",
    "device"
   ]
  },
  {
   "cell_type": "code",
   "execution_count": null,
   "metadata": {},
   "outputs": [],
   "source": [
    "batch_size = 128\n",
    "paths = [cezanne_path, monet_path]\n",
    "fid = FidScore(paths, device, batch_size)\n",
    "score = fid.calculate_fid_score()\n",
    "score"
   ]
  },
  {
   "cell_type": "code",
   "execution_count": null,
   "metadata": {},
   "outputs": [],
   "source": [
    "batch_size = 1\n",
    "paths = [ukiyoe_path, monet_path]\n",
    "fid = FidScore(paths, device, batch_size)\n",
    "score = fid.calculate_fid_score()\n",
    "score"
   ]
  },
  {
   "cell_type": "code",
   "execution_count": null,
   "metadata": {},
   "outputs": [],
   "source": [
    "batch_size = 128\n",
    "paths = [vangogh_path, monet_path]\n",
    "fid = FidScore(paths, device, batch_size)\n",
    "score = fid.calculate_fid_score()\n",
    "score"
   ]
  },
  {
   "cell_type": "code",
   "execution_count": null,
   "metadata": {},
   "outputs": [],
   "source": [
    "images = load_images_from_folder(monet_path)\n",
    "for idx, image in enumerate(images):\n",
    "    if image.shape != (256, 256, 3):\n",
    "        print(idx)"
   ]
  },
  {
   "cell_type": "code",
   "execution_count": null,
   "metadata": {},
   "outputs": [],
   "source": [
    "images = load_images_from_folder(ukiyoe_path)\n",
    "for idx, image in enumerate(images):\n",
    "    if image.shape != (256, 256, 3):\n",
    "        print(idx)"
   ]
  },
  {
   "cell_type": "code",
   "execution_count": null,
   "metadata": {},
   "outputs": [],
   "source": []
  }
 ],
 "metadata": {
  "kernelspec": {
   "display_name": "tensorflow",
   "language": "python",
   "name": "tensorflow"
  },
  "language_info": {
   "codemirror_mode": {
    "name": "ipython",
    "version": 3
   },
   "file_extension": ".py",
   "mimetype": "text/x-python",
   "name": "python",
   "nbconvert_exporter": "python",
   "pygments_lexer": "ipython3",
   "version": "3.7.9"
  }
 },
 "nbformat": 4,
 "nbformat_minor": 4
}
